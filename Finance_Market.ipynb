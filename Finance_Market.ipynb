{
  "nbformat": 4,
  "nbformat_minor": 0,
  "metadata": {
    "colab": {
      "provenance": [],
      "authorship_tag": "ABX9TyOaS6fGJFwkL7GTRqCoqHio",
      "include_colab_link": true
    },
    "kernelspec": {
      "name": "python3",
      "display_name": "Python 3"
    },
    "language_info": {
      "name": "python"
    }
  },
  "cells": [
    {
      "cell_type": "markdown",
      "metadata": {
        "id": "view-in-github",
        "colab_type": "text"
      },
      "source": [
        "<a href=\"https://colab.research.google.com/github/Joel-Mk/Finance-Market-Prediction/blob/main/Finance_Market.ipynb\" target=\"_parent\"><img src=\"https://colab.research.google.com/assets/colab-badge.svg\" alt=\"Open In Colab\"/></a>"
      ]
    },
    {
      "cell_type": "code",
      "execution_count": null,
      "metadata": {
        "id": "-mH4AhpZFsQM"
      },
      "outputs": [],
      "source": [
        "\n",
        "import numpy as np\n",
        "import pandas as pd\n",
        "import yfinance as yf\n",
        "from sklearn.model_selection import train_test_split\n",
        "from sklearn.linear_model import Ridge\n",
        "from sklearn.metrics import mean_squared_error, r2_score\n",
        "import matplotlib.pyplot as plt\n",
        "\n",
        "\n",
        "\n"
      ]
    },
    {
      "cell_type": "code",
      "source": [
        "def load_data(ticker=\"AAPL\", period=\"5y\"):\n",
        "    \"\"\"Download historical stock data from Yahoo Finance\"\"\"\n",
        "    df = yf.download(ticker, period=period)\n",
        "    df = df[[\"Close\"]]\n",
        "    df.dropna(inplace=True)\n",
        "    return df"
      ],
      "metadata": {
        "id": "Zj0K5WQKFzVK"
      },
      "execution_count": null,
      "outputs": []
    },
    {
      "cell_type": "code",
      "source": [
        "def add_features(df):\n",
        "    \"\"\"Add lag features and technical indicators\"\"\"\n",
        "    df[\"Return\"] = df[\"Close\"].pct_change()\n",
        "\n",
        "    # Lagged Returns (past 1 and 2 days)\n",
        "    df[\"Lag1\"] = df[\"Return\"].shift(1)\n",
        "    df[\"Lag2\"] = df[\"Return\"].shift(2)\n",
        "\n",
        "    # Moving Average (MA5, MA10)\n",
        "    df[\"MA5\"] = df[\"Close\"].rolling(5).mean()\n",
        "    df[\"MA10\"] = df[\"Close\"].rolling(10).mean()\n",
        "\n",
        "    # Volatility (Std dev of returns)\n",
        "    df[\"Volatility\"] = df[\"Return\"].rolling(10).std()\n",
        "\n",
        "    df.dropna(inplace=True)\n",
        "    return df\n"
      ],
      "metadata": {
        "id": "Lj4evwJkF49m"
      },
      "execution_count": null,
      "outputs": []
    },
    {
      "cell_type": "code",
      "source": [
        "def prepare_data(df):\n",
        "    \"\"\"Prepare feature matrix X and target y\"\"\"\n",
        "    X = df[[\"Lag1\", \"Lag2\", \"MA5\", \"MA10\", \"Volatility\"]]\n",
        "    y = df[\"Return\"]\n",
        "    return train_test_split(X, y, shuffle=False, test_size=0.2)\n"
      ],
      "metadata": {
        "id": "iqmvxP6pF8jY"
      },
      "execution_count": null,
      "outputs": []
    },
    {
      "cell_type": "code",
      "source": [
        "def train_model(X_train, y_train, alpha=1.0):\n",
        "    \"\"\"Train Ridge Regression model\"\"\"\n",
        "    model = Ridge(alpha=alpha)\n",
        "    model.fit(X_train, y_train)\n",
        "    return model\n"
      ],
      "metadata": {
        "id": "Jd3-5ZNIF_6B"
      },
      "execution_count": null,
      "outputs": []
    },
    {
      "cell_type": "code",
      "source": [
        "def evaluate_model(model, X_test, y_test):\n",
        "    \"\"\"Evaluate model performance\"\"\"\n",
        "    y_pred = model.predict(X_test)\n",
        "    mse = mean_squared_error(y_test, y_pred)\n",
        "    r2 = r2_score(y_test, y_pred)\n",
        "    print(f\" Model Evaluation:\\nMSE: {mse:.6f}, R2: {r2:.4f}\")\n",
        "    return y_pred"
      ],
      "metadata": {
        "id": "eTh7BDgLGERr"
      },
      "execution_count": null,
      "outputs": []
    },
    {
      "cell_type": "code",
      "source": [
        "def plot_results(y_test, y_pred):\n",
        "    \"\"\"Plot actual vs predicted returns\"\"\"\n",
        "    plt.figure(figsize=(12,6))\n",
        "    plt.plot(y_test.values, label=\"Actual Returns\")\n",
        "    plt.plot(y_pred, label=\"Predicted Returns\")\n",
        "    plt.legend()\n",
        "    plt.title(\"Financial Market Prediction (Dummy Example)\")\n",
        "    plt.xlabel(\"Time\")\n",
        "    plt.ylabel(\"Returns\")\n",
        "    plt.show()"
      ],
      "metadata": {
        "id": "vkjPvZMoGHiO"
      },
      "execution_count": null,
      "outputs": []
    },
    {
      "cell_type": "code",
      "source": [
        "def run_pipeline(ticker=\"AAPL\", period=\"5y\", alpha=1.0):\n",
        "    df = load_data(ticker, period)\n",
        "    df = add_features(df)\n",
        "    X_train, X_test, y_train, y_test = prepare_data(df)\n",
        "    model = train_model(X_train, y_train, alpha)\n",
        "    y_pred = evaluate_model(model, X_test, y_test)\n",
        "    plot_results(y_test, y_pred)"
      ],
      "metadata": {
        "id": "uX-n99wNGKsl"
      },
      "execution_count": null,
      "outputs": []
    },
    {
      "cell_type": "code",
      "source": [
        "if __name__ == \"__main__\":\n",
        "    run_pipeline(\"AAPL\", \"5y\", alpha=0.5)"
      ],
      "metadata": {
        "id": "zL0_RCK3GNio"
      },
      "execution_count": null,
      "outputs": []
    }
  ]
}